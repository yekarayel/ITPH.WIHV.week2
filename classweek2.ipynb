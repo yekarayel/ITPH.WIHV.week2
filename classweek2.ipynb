{
 "cells": [
  {
   "cell_type": "code",
   "execution_count": null,
   "metadata": {},
   "outputs": [],
   "source": [
    "#divide 10 by some number (sn)\n",
    "#if 0 is used as a parameter, send a message to user\n",
    "def t(sn):\n",
    "    try:\n",
    "        return (10/sn)\n",
    "    except ZeroDivisionError:\n",
    "        print(\"Canno divide by 0\")\n",
    "    except TypeError:\n",
    "        print(\"enter integer\")\n",
    "    except:\n",
    "        print(\"unknown error\")\n",
    "    finally:\n",
    "        print(\"bye\")\n",
    "\n",
    "t(6)\n",
    "\n"
   ]
  },
  {
   "cell_type": "code",
   "execution_count": null,
   "metadata": {},
   "outputs": [],
   "source": [
    "# Ask user for a name If it's known print 'yes'\n",
    "# If it's not, save it\n",
    "# + let the user print all names\n",
    "# + let user close the program\n",
    "# ++ handle edge cases\n",
    "# +++ save the list in an external file\n",
    "\"\"\"import sqlite3\n",
    "from sqlite3 import Error\n",
    "\n",
    "def sql_connection():\n",
    "    try:\n",
    "        conn = sqlite3.connect(\"ITPHweek2.db\")\n",
    "        return conn\n",
    "    except Error:\n",
    "        print(Error)\"\"\"\n",
    "\n",
    "\n",
    "\n",
    "ol = []\n",
    "while True:\n",
    "    \n",
    "    name = input(\"Enter a name(or type 'exit' to close the program): \")\n",
    "    \n",
    "    \n",
    "    if name.lower() == \"exit\":\n",
    "        print(\"Bye!\")\n",
    "        break\n",
    "    \n",
    "    elif name in ol:\n",
    "        print(\"yes\")\n",
    "    \n",
    "    else:\n",
    "        ol.append(name)\n",
    "    \n",
    "    \n",
    "\n",
    "    for item in ol:\n",
    "        print(item)\n",
    "\n",
    "print(ol)\n",
    "\n",
    "\n"
   ]
  },
  {
   "cell_type": "code",
   "execution_count": 13,
   "metadata": {},
   "outputs": [
    {
     "name": "stdout",
     "output_type": "stream",
     "text": [
      "\n",
      "Employee Data Management\n",
      "1. Show Data\n",
      "2. Add Data\n",
      "3. Remove Data\n",
      "4. Change Data\n",
      "5. Exit\n",
      "? - Show Menu\n"
     ]
    },
    {
     "ename": "ValueError",
     "evalue": "dictionary update sequence element #0 has length 7; 2 is required",
     "output_type": "error",
     "traceback": [
      "\u001b[0;31m---------------------------------------------------------------------------\u001b[0m",
      "\u001b[0;31mValueError\u001b[0m                                Traceback (most recent call last)",
      "\u001b[1;32m/Users/karayel/Desktop/IT/ITPH/Week2/classweek2.ipynb Cell 3\u001b[0m line \u001b[0;36m4\n\u001b[1;32m     <a href='vscode-notebook-cell:/Users/karayel/Desktop/IT/ITPH/Week2/classweek2.ipynb#W2sZmlsZQ%3D%3D?line=40'>41</a>\u001b[0m     \u001b[39mprint\u001b[39m(my_dict_employee)\n\u001b[1;32m     <a href='vscode-notebook-cell:/Users/karayel/Desktop/IT/ITPH/Week2/classweek2.ipynb#W2sZmlsZQ%3D%3D?line=42'>43</a>\u001b[0m \u001b[39melif\u001b[39;00m choice \u001b[39m==\u001b[39m \u001b[39m'\u001b[39m\u001b[39m4\u001b[39m\u001b[39m'\u001b[39m:\n\u001b[0;32m---> <a href='vscode-notebook-cell:/Users/karayel/Desktop/IT/ITPH/Week2/classweek2.ipynb#W2sZmlsZQ%3D%3D?line=43'>44</a>\u001b[0m     my_dict_employee\u001b[39m.\u001b[39;49mupdate([\u001b[39minput\u001b[39;49m(\u001b[39m\"\u001b[39;49m\u001b[39mEnter the key and value you want to change: \u001b[39;49m\u001b[39m\"\u001b[39;49m)\n\u001b[1;32m     <a href='vscode-notebook-cell:/Users/karayel/Desktop/IT/ITPH/Week2/classweek2.ipynb#W2sZmlsZQ%3D%3D?line=44'>45</a>\u001b[0m     ])\n\u001b[1;32m     <a href='vscode-notebook-cell:/Users/karayel/Desktop/IT/ITPH/Week2/classweek2.ipynb#W2sZmlsZQ%3D%3D?line=46'>47</a>\u001b[0m \u001b[39melif\u001b[39;00m choice \u001b[39m==\u001b[39m \u001b[39m'\u001b[39m\u001b[39m5\u001b[39m\u001b[39m'\u001b[39m:\n\u001b[1;32m     <a href='vscode-notebook-cell:/Users/karayel/Desktop/IT/ITPH/Week2/classweek2.ipynb#W2sZmlsZQ%3D%3D?line=47'>48</a>\u001b[0m     \u001b[39mprint\u001b[39m(\u001b[39m\"\u001b[39m\u001b[39mProgram closed!\u001b[39m\u001b[39m\"\u001b[39m)\n",
      "\u001b[0;31mValueError\u001b[0m: dictionary update sequence element #0 has length 7; 2 is required"
     ]
    }
   ],
   "source": [
    "\"\"\"\n",
    "    Creaete a dict that stores data of employees, saving their name, age & year they started working.\n",
    "    + create a menu with options (show data, add data, remove data, change data, exit, ?, ?)\n",
    "    ++ save the dict extarnally\n",
    "    ++ coveredge cases \n",
    "    +++ ?\n",
    "\"\"\"\n",
    "\n",
    "my_dict_employee = {}\n",
    "\n",
    "def display_menu():\n",
    "    print(\"\\nEmployee Data Management\")\n",
    "    print(\"1. Show Data\")\n",
    "    print(\"2. Add Data\")\n",
    "    print(\"3. Remove Data\")\n",
    "    print(\"4. Change Data\")\n",
    "    print(\"5. Exit\")\n",
    "    print(\"? - Show Menu\")\n",
    "    \n",
    "while True:\n",
    "    display_menu()\n",
    "    choice = input(\"Enter your choice: \")\n",
    "    \n",
    "    if choice == '1':\n",
    "        print(my_dict_employee)\n",
    "    \n",
    "    elif choice == '2':\n",
    "        employee_id = input(\"Enter Employee ID: \")\n",
    "        name = input(\"Enter Employee Name: \")\n",
    "        age = input(\"Enter Employee Age: \")\n",
    "        year = input(\"Enter Employee Starting Year: \")\n",
    "        \n",
    "        my_dict_employee.update({\n",
    "            employee_id: { \n",
    "                'employee': name,\n",
    "                'age': age,\n",
    "                'starting year': year \n",
    "                }\n",
    "                \n",
    "            })\n",
    "        print(my_dict_employee)\n",
    "    \n",
    "    elif choice == '4':\n",
    "        my_dict_employee.update([input(\"Enter the key and value you want to change: \")\n",
    "        ])\n",
    "    \n",
    "    elif choice == '5':\n",
    "        print(\"Program closed!\")\n",
    "        break\n",
    "    \n",
    "    else:\n",
    "        display_menu()"
   ]
  },
  {
   "cell_type": "code",
   "execution_count": null,
   "metadata": {},
   "outputs": [],
   "source": []
  },
  {
   "cell_type": "code",
   "execution_count": null,
   "metadata": {},
   "outputs": [],
   "source": []
  },
  {
   "cell_type": "code",
   "execution_count": null,
   "metadata": {},
   "outputs": [],
   "source": []
  },
  {
   "cell_type": "code",
   "execution_count": null,
   "metadata": {},
   "outputs": [],
   "source": []
  },
  {
   "cell_type": "code",
   "execution_count": null,
   "metadata": {},
   "outputs": [],
   "source": []
  },
  {
   "cell_type": "code",
   "execution_count": null,
   "metadata": {},
   "outputs": [],
   "source": []
  }
 ],
 "metadata": {
  "kernelspec": {
   "display_name": "Python 3",
   "language": "python",
   "name": "python3"
  },
  "language_info": {
   "codemirror_mode": {
    "name": "ipython",
    "version": 3
   },
   "file_extension": ".py",
   "mimetype": "text/x-python",
   "name": "python",
   "nbconvert_exporter": "python",
   "pygments_lexer": "ipython3",
   "version": "3.11.3"
  },
  "orig_nbformat": 4
 },
 "nbformat": 4,
 "nbformat_minor": 2
}
